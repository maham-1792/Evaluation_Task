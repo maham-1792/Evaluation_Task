{
  "cells": [
    {
      "cell_type": "markdown",
      "metadata": {
        "id": "tvBbbUwWuW9S"
      },
      "source": [
        "# Perform the following analysis on the provided file \"demo.csv\".\n",
        "\n",
        "\n",
        "## 1. Which month saw the highest joining of the employees\n",
        "\n",
        "   function name: max_joinings_month()\n",
        "   \n",
        "   inputs: DataFrame\n",
        "\n",
        "   outputs: str\n",
        "   \n",
        "   \n",
        "## 2. What is the mean salary is the state KS\n",
        "\n",
        "   function name: mean_ks_salary()\n",
        "   \n",
        "   inputs: DataFrame\n",
        "\n",
        "   outputs: float\n",
        "   \n",
        "   \n",
        "## 3. Which Region has highest mean salary\n",
        "\n",
        "   function name: max_mean_salary_region()\n",
        "\n",
        "   inputs: DataFrame\n",
        "\n",
        "   outputs: str\n",
        "   \n",
        "   \n",
        "## 4. Which region has lowest mean salary\n",
        "\n",
        "   function name: min_mean_salary_region()\n",
        "\n",
        "   inputs: DataFrame\n",
        "\n",
        "   outputs: str\n",
        "   \n",
        "   \n",
        "## 5. Which City has highest mean weight\n",
        "\n",
        "   function name: max_mean_weight_city()\n",
        "\n",
        "   inputs: DataFrame\n",
        "\n",
        "   outputs: str\n",
        "   \n",
        "   \n",
        "## 6. What is the difference between mean salary of Doctors and Professors\n",
        "\n",
        "   function name: dr_prof_mean_salary_diff()\n",
        "\n",
        "   inputs: DataFrame\n",
        "\n",
        "   outputs: float\n",
        "   \n",
        "   \n",
        "## 7. How many female use yahoo\n",
        "\n",
        "   function name: females_with_yahoo()\n",
        "\n",
        "   inputs: DataFrame\n",
        "\n",
        "   outputs: int\n",
        "   \n",
        "   \n",
        "## 8. How many Doctors use gmail\n",
        "\n",
        "   function name: doctors_with_gmail()\n",
        "\n",
        "   inputs: DataFrame\n",
        "\n",
        "   outputs: int\n",
        "   \n",
        "   \n",
        "## 9. What is the password of the youngest male\n",
        "\n",
        "   function name: youngest_male_password()\n",
        "\n",
        "   inputs: DataFrame\n",
        "\n",
        "   outputs: str\n"
      ]
    },
    {
      "cell_type": "code",
      "execution_count": null,
      "metadata": {
        "id": "5Pos8WYPuW9Y"
      },
      "outputs": [],
      "source": [
        "import pandas as pd\n"
      ]
    },
    {
      "cell_type": "code",
      "source": [
        "data= pd.read_csv('/content/demo.csv')\n",
        "print(data)"
      ],
      "metadata": {
        "id": "ZUN-RGPOvHYw",
        "colab": {
          "base_uri": "https://localhost:8080/"
        },
        "outputId": "3ba5be5d-218b-4e7b-881d-f33519677fc7"
      },
      "execution_count": null,
      "outputs": [
        {
          "output_type": "stream",
          "name": "stdout",
          "text": [
            "     Emp ID Name Prefix First Name Middle Initial  Last Name Gender  \\\n",
            "0    850297         Ms.     Shawna              W       Buck      F   \n",
            "1    304721         Mr.  Nathaniel              Z      Burke      M   \n",
            "2    412317        Drs.  Elisabeth              W     Foster      F   \n",
            "3    621375        Mrs.     Briana              C  Lancaster      F   \n",
            "4    787549        Hon.    Estella              L     Potter      F   \n",
            "..      ...         ...        ...            ...        ...    ...   \n",
            "995  568435         Ms.     Bonnie              K      Baker      F   \n",
            "996  597409         Mr.       Luke              S     Turner      M   \n",
            "997  359608        Hon.        Eva              S     Holman      F   \n",
            "998  803426        Mrs.    Maritza              H  Christian      F   \n",
            "999  669618        Drs.    Phyllis              H     Dudley      F   \n",
            "\n",
            "                              E Mail      Father's Name        Mother's Name  \\\n",
            "0              shawna.buck@gmail.com       Rosario Buck          Keisha Buck   \n",
            "1        nathaniel.burke@walmart.com      Derrick Burke         Phoebe Burke   \n",
            "2         elisabeth.foster@gmail.com       Irwin Foster         Janie Foster   \n",
            "3         briana.lancaster@yahoo.com  Jeffrey Lancaster     Shelby Lancaster   \n",
            "4           estella.potter@gmail.com      Booker Potter       Katelyn Potter   \n",
            "..                               ...                ...                  ...   \n",
            "995              bonnie.baker@bp.com      Edwardo Baker        Pauline Baker   \n",
            "996          luke.turner@charter.net      Javier Turner        Nicole Turner   \n",
            "997           eva.holman@hotmail.com         Coy Holman         Haley Holman   \n",
            "998  maritza.christian@microsoft.com     Dion Christian  Stephanie Christian   \n",
            "999       phyllis.dudley@yahoo.co.in      Jarrod Dudley       Latisha Dudley   \n",
            "\n",
            "    Mother's Maiden Name  ...          SSN    Phone No.   Place Name  \\\n",
            "0              Hendricks  ...  222-11-7603  702-771-7149   Las Vegas   \n",
            "1                   Pugh  ...  550-99-9897  231-765-6923       Irons   \n",
            "2                Delaney  ...  215-91-0004  270-749-4774   Lexington   \n",
            "3                  Weiss  ...  534-71-1053  219-623-8216     Munster   \n",
            "4                   Pate  ...  644-29-6396  907-677-8486   Fairbanks   \n",
            "..                   ...  ...          ...           ...         ...   \n",
            "995             Robinson  ...  064-02-6162  262-696-9171   Mukwonago   \n",
            "996                Sykes  ...  056-02-8240  231-629-0498    Freeport   \n",
            "997                Boyle  ...  343-11-1935  209-912-6705     Turlock   \n",
            "998               Mooney  ...  336-11-5030  203-224-9056    Stamford   \n",
            "999               Wilcox  ...  101-02-6501  405-970-2341        Meno   \n",
            "\n",
            "                   County       City State    Zip     Region    User Name  \\\n",
            "0                   Clark  Las Vegas    NV  89128       West       swbuck   \n",
            "1                    Lake      Irons    MI  49644    Midwest      nzburke   \n",
            "2                 Fayette  Lexington    KY  40501      South     ewfoster   \n",
            "3                    Lake    Munster    IN  46321    Midwest  bclancaster   \n",
            "4    Fairbanks North Star  Fairbanks    AK  99709       West     elpotter   \n",
            "..                    ...        ...   ...    ...        ...          ...   \n",
            "995              Waukesha  Mukwonago    WI  53149    Midwest      bkbaker   \n",
            "996                 Barry   Freeport    MI  49325    Midwest     lsturner   \n",
            "997            Stanislaus    Turlock    CA  95381       West     esholman   \n",
            "998             Fairfield   Stamford    CT   6910  Northeast  mhchristian   \n",
            "999                 Major       Meno    OK  73760      South     phdudley   \n",
            "\n",
            "            Password  \n",
            "0    ja8?k3BTF^]o@<&  \n",
            "1     tPA@4Wh9Ja$+Ln  \n",
            "2    5D.B4IGNkWJfG<~  \n",
            "3          I%?JDM;pW  \n",
            "4        j4jkEXfC&Rh  \n",
            "..               ...  \n",
            "995   a?Co:/r;nu_wTQ  \n",
            "996       7n5@64VC7|  \n",
            "997    DG<<<e}*WgD<U  \n",
            "998         Krs@#TnM  \n",
            "999     h6wt@400%&Uu  \n",
            "\n",
            "[1000 rows x 37 columns]\n"
          ]
        }
      ]
    },
    {
      "cell_type": "markdown",
      "metadata": {
        "id": "n_fTzTbPuW9a"
      },
      "source": [
        "## 1. Which month saw the highest joining of the employees\n",
        "\n",
        "   function name: max_joinings_month()\n",
        "   \n",
        "   inputs: DataFrame\n",
        "\n",
        "   outputs: str"
      ]
    },
    {
      "cell_type": "code",
      "execution_count": null,
      "metadata": {
        "id": "Ol33tFG-uW9a",
        "colab": {
          "base_uri": "https://localhost:8080/"
        },
        "outputId": "87001bae-c54d-4ace-acbe-4361e1b17552"
      },
      "outputs": [
        {
          "output_type": "stream",
          "name": "stdout",
          "text": [
            "Month of Joining: April\n"
          ]
        }
      ],
      "source": [
        "def max_joinings_month(data):\n",
        "\n",
        "    joining = data.groupby(\"Month of Joining\").count().reset_index()\n",
        "\n",
        "    result = joining.sort_values(by=\"First Name\", ascending=False)\n",
        "\n",
        "    max_month_number = result[\"Month of Joining\"].iloc[0]\n",
        "\n",
        "    max_month_name = calendar.month_name[max_month_number]\n",
        "\n",
        "    return max_month_name\n",
        "\n",
        "\n",
        "print(\"Month of Joining:\", max_joinings_month(data))\n",
        "\n",
        "\n",
        "\n",
        "\n",
        "\n",
        "\n",
        "\n",
        "\n",
        "\n",
        "\n",
        "\n",
        "\n",
        "\n",
        "\n",
        "\n"
      ]
    },
    {
      "cell_type": "markdown",
      "metadata": {
        "id": "rVE_BdqIuW9b"
      },
      "source": [
        "## 2. What is the mean salary is the state KS\n",
        "\n",
        "   function name: mean_ks_salary()\n",
        "   \n",
        "   inputs: DataFrame\n",
        "\n",
        "   outputs: float"
      ]
    },
    {
      "cell_type": "code",
      "execution_count": null,
      "metadata": {
        "id": "UpoU-UakuW9b",
        "colab": {
          "base_uri": "https://localhost:8080/"
        },
        "outputId": "08e1bd6e-49a2-498c-ec63-b57324cd9a83"
      },
      "outputs": [
        {
          "output_type": "stream",
          "name": "stdout",
          "text": [
            "Mean Salary in the state KS: 104225.45454545454\n"
          ]
        }
      ],
      "source": [
        "def mean_ks_salary(data):\n",
        "    #\n",
        "    ks_data = data[data['State'] == 'KS']\n",
        "    mean_salary_ks = ks_data['Salary'].mean()\n",
        "\n",
        "    return mean_salary_ks\n",
        "\n",
        "average_salary_ks = mean_ks_salary(data)\n",
        "print(\"Mean Salary in the state KS:\", average_salary_ks)\n"
      ]
    },
    {
      "cell_type": "markdown",
      "metadata": {
        "id": "Vgd5Fb5CuW9c"
      },
      "source": [
        "## 3. Which Region has highest mean salary\n",
        "\n",
        "   function name: max_mean_salary_region()\n",
        "\n",
        "   inputs: DataFrame\n",
        "\n",
        "   outputs: str"
      ]
    },
    {
      "cell_type": "code",
      "execution_count": null,
      "metadata": {
        "id": "7HOPwotyuW9c",
        "colab": {
          "base_uri": "https://localhost:8080/"
        },
        "outputId": "3d6e0469-c4d2-4d3a-cfb4-b28603b04106"
      },
      "outputs": [
        {
          "output_type": "stream",
          "name": "stdout",
          "text": [
            "Region with the highest mean salary: Midwest\n"
          ]
        }
      ],
      "source": [
        "def max_mean_salary_region(data):\n",
        "    region_mean_salary = data.groupby('Region')['Salary'].mean()\n",
        "\n",
        "    # Find the region with the highest mean salary\n",
        "    max_mean_salary_region = region_mean_salary.idxmax()\n",
        "\n",
        "    return max_mean_salary_region\n",
        "highest_mean_salary_region = max_mean_salary_region(data)\n",
        "print(\"Region with the highest mean salary:\", highest_mean_salary_region)\n"
      ]
    },
    {
      "cell_type": "markdown",
      "metadata": {
        "id": "wawx6nHmuW9d"
      },
      "source": [
        "## 4. Which region has lowest mean salary\n",
        "\n",
        "   function name: min_mean_salary_region()\n",
        "\n",
        "   inputs: DataFrame\n",
        "\n",
        "   outputs: str"
      ]
    },
    {
      "cell_type": "code",
      "execution_count": null,
      "metadata": {
        "id": "dH61IHpFuW9d",
        "colab": {
          "base_uri": "https://localhost:8080/"
        },
        "outputId": "61082a13-d6ad-47c1-b458-d1894b7f4f45"
      },
      "outputs": [
        {
          "output_type": "stream",
          "name": "stdout",
          "text": [
            "Region with the lowest mean salary: West\n"
          ]
        }
      ],
      "source": [
        "def min_mean_salary_region(data):\n",
        "    region_mean_salary = data.groupby('Region')['Salary'].mean()\n",
        "\n",
        "    # Find the region with the lowest mean salary\n",
        "    min_mean_salary_region = region_mean_salary.idxmin()\n",
        "\n",
        "    return min_mean_salary_region\n",
        "lowest_mean_salary_region = min_mean_salary_region(data)\n",
        "print(\"Region with the lowest mean salary:\", lowest_mean_salary_region)\n"
      ]
    },
    {
      "cell_type": "markdown",
      "metadata": {
        "id": "MSpzMJpPuW9d"
      },
      "source": [
        "## 5. Which City has highest mean weight\n",
        "\n",
        "   function name: max_mean_weight_city()\n",
        "\n",
        "   inputs: DataFrame\n",
        "\n",
        "   outputs: str"
      ]
    },
    {
      "cell_type": "code",
      "execution_count": null,
      "metadata": {
        "id": "m2gP7FpMuW9e",
        "colab": {
          "base_uri": "https://localhost:8080/"
        },
        "outputId": "483d9088-efdd-4699-cc3e-3549d1b55d5b"
      },
      "outputs": [
        {
          "output_type": "stream",
          "name": "stdout",
          "text": [
            "City with the highest mean weight: Conroe\n"
          ]
        }
      ],
      "source": [
        "def max_mean_weight_city(data):\n",
        "    City_mean_weight = data.groupby('City')['Weight in Kgs.'].mean()\n",
        "    max_mean_weight_city = City_mean_weight.idxmax()\n",
        "\n",
        "    return max_mean_weight_city\n",
        "highest_mean_weight_city = max_mean_weight_city(data)\n",
        "print(\"City with the highest mean weight:\", highest_mean_weight_city)\n"
      ]
    },
    {
      "cell_type": "code",
      "source": [
        "data.columns"
      ],
      "metadata": {
        "colab": {
          "base_uri": "https://localhost:8080/"
        },
        "id": "qYCzbb2q3Oxo",
        "outputId": "1be0e9c3-f21e-48c7-91f6-e7eff8a841c0"
      },
      "execution_count": null,
      "outputs": [
        {
          "output_type": "execute_result",
          "data": {
            "text/plain": [
              "Index(['Emp ID', 'Name Prefix', 'First Name', 'Middle Initial', 'Last Name',\n",
              "       'Gender', 'E Mail', 'Father's Name', 'Mother's Name',\n",
              "       'Mother's Maiden Name', 'Date of Birth', 'Time of Birth', 'Age in Yrs.',\n",
              "       'Weight in Kgs.', 'Date of Joining', 'Quarter of Joining',\n",
              "       'Half of Joining', 'Year of Joining', 'Month of Joining',\n",
              "       'Month Name of Joining', 'Short Month', 'Day of Joining',\n",
              "       'DOW of Joining', 'Short DOW', 'Age in Company (Years)', 'Salary',\n",
              "       'Last % Hike', 'SSN', 'Phone No. ', 'Place Name', 'County', 'City',\n",
              "       'State', 'Zip', 'Region', 'User Name', 'Password', 'Joining Month'],\n",
              "      dtype='object')"
            ]
          },
          "metadata": {},
          "execution_count": 58
        }
      ]
    },
    {
      "cell_type": "markdown",
      "metadata": {
        "id": "amq4sSZ5uW9e"
      },
      "source": [
        "## 6. What is the difference between mean salary of Doctors and Professors\n",
        "\n",
        "   function name: dr_prof_mean_salary_diff()\n",
        "\n",
        "   inputs: DataFrame\n",
        "\n",
        "   outputs: float"
      ]
    },
    {
      "cell_type": "code",
      "execution_count": null,
      "metadata": {
        "id": "nXuEdsLBuW9f",
        "colab": {
          "base_uri": "https://localhost:8080/"
        },
        "outputId": "45047fd1-2e29-40a3-e933-ec9a94753f75"
      },
      "outputs": [
        {
          "output_type": "stream",
          "name": "stdout",
          "text": [
            "Mean salary: 2635.981785063763\n"
          ]
        }
      ],
      "source": [
        "def dr_prof_mean_salary_diff(data):\n",
        "    doctors_data = data[data[\"Name Prefix\"].isin([\"Dr.\", \"Drs.\"])]\n",
        "    professors_data = data[data[\"Name Prefix\"] == \"Prof.\"]\n",
        "    mean_doctors = doctors_data[\"Salary\"].mean()\n",
        "    mean_professors = professors_data[\"Salary\"].mean()\n",
        "    difference = mean_professors- mean_doctors\n",
        "    return difference\n",
        "diff = dr_prof_mean_salary_diff(data)\n",
        "print(\"Mean salary:\", diff)\n"
      ]
    },
    {
      "cell_type": "markdown",
      "metadata": {
        "id": "WCgvbyRHuW9f"
      },
      "source": [
        "## 7. How many female use yahoo\n",
        "\n",
        "   function name: females_with_yahoo()\n",
        "\n",
        "   inputs: DataFrame\n",
        "\n",
        "   outputs: int"
      ]
    },
    {
      "cell_type": "code",
      "execution_count": null,
      "metadata": {
        "id": "z17LU2IVuW9f",
        "colab": {
          "base_uri": "https://localhost:8080/"
        },
        "outputId": "bdd8542a-e95d-4fd3-d1b0-d2fd4a0a964e"
      },
      "outputs": [
        {
          "output_type": "stream",
          "name": "stdout",
          "text": [
            "Number of females with Yahoo email addresses: 69\n"
          ]
        }
      ],
      "source": [
        "def females_with_yahoo(data):\n",
        "    female_yahoo = data[(data[\"Gender\"] == \"F\") & (data[\"E Mail\"].str.strip().str.contains(\"yahoo\"))]\n",
        "    return len(female_yahoo)\n",
        "fe = females_with_yahoo(data)\n",
        "print(\"Number of females with Yahoo email addresses:\",fe)\n"
      ]
    },
    {
      "cell_type": "markdown",
      "metadata": {
        "id": "LRx_pxOPuW9g"
      },
      "source": [
        "## 8. How many Doctors use gmail\n",
        "\n",
        "   function name: doctors_with_gmail()\n",
        "\n",
        "   inputs: DataFrame\n",
        "\n",
        "   outputs: int"
      ]
    },
    {
      "cell_type": "code",
      "execution_count": null,
      "metadata": {
        "id": "58Qmeg9nuW9g",
        "colab": {
          "base_uri": "https://localhost:8080/"
        },
        "outputId": "7fe92334-939a-4554-9487-af6332a8e2ac"
      },
      "outputs": [
        {
          "output_type": "stream",
          "name": "stdout",
          "text": [
            "Doctors use gmail 156\n"
          ]
        }
      ],
      "source": [
        "def doctors_with_gmail(data):\n",
        "    female_yahoo = data[(data[\"Gender\"] == \"M\") & (data[\"E Mail\"].str.strip().str.endswith(\"@gmail.com\"))]\n",
        "    return len(female_yahoo)\n",
        "ge = doctors_with_gmail(data)\n",
        "print(\"Doctors use gmail:\", ge)\n"
      ]
    },
    {
      "cell_type": "markdown",
      "metadata": {
        "id": "wAMZIWg5uW9h"
      },
      "source": [
        "## 9. What is the password of the youngest male\n",
        "\n",
        "   function name: youngest_male_password()\n",
        "\n",
        "   inputs: DataFrame\n",
        "\n",
        "   outputs: str"
      ]
    },
    {
      "cell_type": "code",
      "execution_count": null,
      "metadata": {
        "id": "LMs7ZxjRuW9h",
        "colab": {
          "base_uri": "https://localhost:8080/"
        },
        "outputId": "f70b44ef-bbf6-4ccf-87d4-eb0ed466eb6e"
      },
      "outputs": [
        {
          "output_type": "stream",
          "name": "stdout",
          "text": [
            "Password of youngest male: xPr\\aGPTQ#v\n"
          ]
        }
      ],
      "source": [
        "def youngest_male_password(data):\n",
        "    males_data = data[data[\"Gender\"] == \"M\"]\n",
        "    youngest_male_idx = males_data[\"Age in Yrs.\"].idxmin()\n",
        "    password_youngest_male = data.loc[youngest_male_idx, \"Password\"]\n",
        "    return password_youngest_male\n",
        "pas = youngest_male_password(data)\n",
        "print(\"Password of youngest male:\", pas)\n"
      ]
    }
  ],
  "metadata": {
    "kernelspec": {
      "display_name": "unet_ml11",
      "language": "python",
      "name": "unet_ml11"
    },
    "language_info": {
      "codemirror_mode": {
        "name": "ipython",
        "version": 3
      },
      "file_extension": ".py",
      "mimetype": "text/x-python",
      "name": "python",
      "nbconvert_exporter": "python",
      "pygments_lexer": "ipython3",
      "version": "3.6.9"
    },
    "colab": {
      "provenance": []
    }
  },
  "nbformat": 4,
  "nbformat_minor": 0
}