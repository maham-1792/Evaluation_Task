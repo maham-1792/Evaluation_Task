{
  "nbformat": 4,
  "nbformat_minor": 0,
  "metadata": {
    "colab": {
      "provenance": []
    },
    "kernelspec": {
      "name": "python3",
      "display_name": "Python 3"
    },
    "language_info": {
      "name": "python"
    }
  },
  "cells": [
    {
      "cell_type": "code",
      "execution_count": null,
      "metadata": {
        "id": "fn9gEkwPgAaz"
      },
      "outputs": [],
      "source": [
        "import keras\n",
        "import random\n",
        "import collections\n",
        "import numpy as np\n",
        "import matplotlib.pyplot as plt\n"
      ]
    },
    {
      "cell_type": "code",
      "source": [
        "def display_random_images_with_labels(d, n=10):\n",
        "    \"\"\"\n",
        "        accept dataset in tuple form, first index\n",
        "        is np arrays (images) and second is labels\n",
        "        and display n random images with labels\n",
        "        from it\n",
        "        Inputs:\n",
        "            d (tuple): dataset images, dataset labels on same indexs\n",
        "            n (int): number of samples to display (default: 10)\n",
        "        Output:\n",
        "            None\n",
        "    \"\"\"\n",
        "    choices = list(range(len(d[0])))\n",
        "    for i in range(n):\n",
        "        index = random.choice(choices)\n",
        "        choices.remove(index)\n",
        "        print(\"index:\",index)\n",
        "        print(\"Lable:\",d[1][index])\n",
        "        plt.imshow(d[0][index], cmap='gray')\n",
        "        plt.show()"
      ],
      "metadata": {
        "id": "Oe0nyhaFgHy0"
      },
      "execution_count": null,
      "outputs": []
    },
    {
      "cell_type": "code",
      "source": [
        "import keras.datasets.mnist as mnist\n",
        "# Loading the dataset\n",
        "dataset = mnist.load_data()\n",
        "print(dataset)\n",
        "\n",
        "(train_X, train_y), (test_X, test_y) = mnist.load_data()\n",
        "\n",
        "#printing the shapes of the vectors\n",
        "print('X_train: ' + str(train_X.shape))\n",
        "print('Y_train: ' + str(train_y.shape))\n",
        "print('X_test:  '  + str(test_X.shape))\n",
        "print('Y_test:  '  + str(test_y.shape))\n"
      ],
      "metadata": {
        "colab": {
          "base_uri": "https://localhost:8080/"
        },
        "id": "Mdia14R4gNQG",
        "outputId": "66fc7151-01e6-4e34-ccd5-5d8af18c1509"
      },
      "execution_count": null,
      "outputs": [
        {
          "output_type": "stream",
          "name": "stdout",
          "text": [
            "Downloading data from https://storage.googleapis.com/tensorflow/tf-keras-datasets/mnist.npz\n",
            "11490434/11490434 [==============================] - 1s 0us/step\n",
            "((array([[[0, 0, 0, ..., 0, 0, 0],\n",
            "        [0, 0, 0, ..., 0, 0, 0],\n",
            "        [0, 0, 0, ..., 0, 0, 0],\n",
            "        ...,\n",
            "        [0, 0, 0, ..., 0, 0, 0],\n",
            "        [0, 0, 0, ..., 0, 0, 0],\n",
            "        [0, 0, 0, ..., 0, 0, 0]],\n",
            "\n",
            "       [[0, 0, 0, ..., 0, 0, 0],\n",
            "        [0, 0, 0, ..., 0, 0, 0],\n",
            "        [0, 0, 0, ..., 0, 0, 0],\n",
            "        ...,\n",
            "        [0, 0, 0, ..., 0, 0, 0],\n",
            "        [0, 0, 0, ..., 0, 0, 0],\n",
            "        [0, 0, 0, ..., 0, 0, 0]],\n",
            "\n",
            "       [[0, 0, 0, ..., 0, 0, 0],\n",
            "        [0, 0, 0, ..., 0, 0, 0],\n",
            "        [0, 0, 0, ..., 0, 0, 0],\n",
            "        ...,\n",
            "        [0, 0, 0, ..., 0, 0, 0],\n",
            "        [0, 0, 0, ..., 0, 0, 0],\n",
            "        [0, 0, 0, ..., 0, 0, 0]],\n",
            "\n",
            "       ...,\n",
            "\n",
            "       [[0, 0, 0, ..., 0, 0, 0],\n",
            "        [0, 0, 0, ..., 0, 0, 0],\n",
            "        [0, 0, 0, ..., 0, 0, 0],\n",
            "        ...,\n",
            "        [0, 0, 0, ..., 0, 0, 0],\n",
            "        [0, 0, 0, ..., 0, 0, 0],\n",
            "        [0, 0, 0, ..., 0, 0, 0]],\n",
            "\n",
            "       [[0, 0, 0, ..., 0, 0, 0],\n",
            "        [0, 0, 0, ..., 0, 0, 0],\n",
            "        [0, 0, 0, ..., 0, 0, 0],\n",
            "        ...,\n",
            "        [0, 0, 0, ..., 0, 0, 0],\n",
            "        [0, 0, 0, ..., 0, 0, 0],\n",
            "        [0, 0, 0, ..., 0, 0, 0]],\n",
            "\n",
            "       [[0, 0, 0, ..., 0, 0, 0],\n",
            "        [0, 0, 0, ..., 0, 0, 0],\n",
            "        [0, 0, 0, ..., 0, 0, 0],\n",
            "        ...,\n",
            "        [0, 0, 0, ..., 0, 0, 0],\n",
            "        [0, 0, 0, ..., 0, 0, 0],\n",
            "        [0, 0, 0, ..., 0, 0, 0]]], dtype=uint8), array([5, 0, 4, ..., 5, 6, 8], dtype=uint8)), (array([[[0, 0, 0, ..., 0, 0, 0],\n",
            "        [0, 0, 0, ..., 0, 0, 0],\n",
            "        [0, 0, 0, ..., 0, 0, 0],\n",
            "        ...,\n",
            "        [0, 0, 0, ..., 0, 0, 0],\n",
            "        [0, 0, 0, ..., 0, 0, 0],\n",
            "        [0, 0, 0, ..., 0, 0, 0]],\n",
            "\n",
            "       [[0, 0, 0, ..., 0, 0, 0],\n",
            "        [0, 0, 0, ..., 0, 0, 0],\n",
            "        [0, 0, 0, ..., 0, 0, 0],\n",
            "        ...,\n",
            "        [0, 0, 0, ..., 0, 0, 0],\n",
            "        [0, 0, 0, ..., 0, 0, 0],\n",
            "        [0, 0, 0, ..., 0, 0, 0]],\n",
            "\n",
            "       [[0, 0, 0, ..., 0, 0, 0],\n",
            "        [0, 0, 0, ..., 0, 0, 0],\n",
            "        [0, 0, 0, ..., 0, 0, 0],\n",
            "        ...,\n",
            "        [0, 0, 0, ..., 0, 0, 0],\n",
            "        [0, 0, 0, ..., 0, 0, 0],\n",
            "        [0, 0, 0, ..., 0, 0, 0]],\n",
            "\n",
            "       ...,\n",
            "\n",
            "       [[0, 0, 0, ..., 0, 0, 0],\n",
            "        [0, 0, 0, ..., 0, 0, 0],\n",
            "        [0, 0, 0, ..., 0, 0, 0],\n",
            "        ...,\n",
            "        [0, 0, 0, ..., 0, 0, 0],\n",
            "        [0, 0, 0, ..., 0, 0, 0],\n",
            "        [0, 0, 0, ..., 0, 0, 0]],\n",
            "\n",
            "       [[0, 0, 0, ..., 0, 0, 0],\n",
            "        [0, 0, 0, ..., 0, 0, 0],\n",
            "        [0, 0, 0, ..., 0, 0, 0],\n",
            "        ...,\n",
            "        [0, 0, 0, ..., 0, 0, 0],\n",
            "        [0, 0, 0, ..., 0, 0, 0],\n",
            "        [0, 0, 0, ..., 0, 0, 0]],\n",
            "\n",
            "       [[0, 0, 0, ..., 0, 0, 0],\n",
            "        [0, 0, 0, ..., 0, 0, 0],\n",
            "        [0, 0, 0, ..., 0, 0, 0],\n",
            "        ...,\n",
            "        [0, 0, 0, ..., 0, 0, 0],\n",
            "        [0, 0, 0, ..., 0, 0, 0],\n",
            "        [0, 0, 0, ..., 0, 0, 0]]], dtype=uint8), array([7, 2, 1, ..., 4, 5, 6], dtype=uint8)))\n",
            "X_train: (60000, 28, 28)\n",
            "Y_train: (60000,)\n",
            "X_test:  (10000, 28, 28)\n",
            "Y_test:  (10000,)\n"
          ]
        }
      ]
    },
    {
      "cell_type": "code",
      "source": [
        "# Print the number of images in the training and testing datasets\n",
        "print(f\"There are {len(dataset[0][0])} images in the training dataset.\")\n",
        "print(f\"There are {len(dataset[1][0])} images in the testing dataset.\")\n",
        "print(\"___________________\")\n",
        "\n",
        "# Print the shape of the first image in the training dataset\n",
        "print(dataset[0][0][0].shape)\n",
        "print(\"___________________\")\n",
        "display_random_images_with_labels(dataset[0])\n",
        "print(\"___________________\")"
      ],
      "metadata": {
        "colab": {
          "base_uri": "https://localhost:8080/",
          "height": 1000
        },
        "id": "IWMZqbz7gTty",
        "outputId": "428f6a87-a7ec-4373-b08c-dc5231a52261"
      },
      "execution_count": null,
      "outputs": [
        {
          "output_type": "stream",
          "name": "stdout",
          "text": [
            "There are 60000 images in the training dataset.\n",
            "There are 10000 images in the testing dataset.\n",
            "___________________\n",
            "(28, 28)\n",
            "___________________\n",
            "index: 46824\n",
            "Lable: 5\n"
          ]
        },
        {
          "output_type": "display_data",
          "data": {
            "text/plain": [
              "<Figure size 640x480 with 1 Axes>"
            ],
            "image/png": "[encoded data removed]"
          },
          "metadata": {}
        },
        {
          "output_type": "stream",
          "name": "stdout",
          "text": [
            "index: 22915\n",
            "Lable: 9\n"
          ]
        },
        {
          "output_type": "display_data",
          "data": {
            "text/plain": [
              "<Figure size 640x480 with 1 Axes>"
            ],
            "image/png": "[encoded data removed]"
          },
          "metadata": {}
        },
        {
          "output_type": "stream",
          "name": "stdout",
          "text": [
            "index: 42585\n",
            "Lable: 3\n"
          ]
        },
        {
          "output_type": "display_data",
          "data": {
            "text/plain": [
              "<Figure size 640x480 with 1 Axes>"
            ],
            "image/png": "[encoded data removed]"
          },
          "metadata": {}
        },
        {
          "output_type": "stream",
          "name": "stdout",
          "text": [
            "index: 42135\n",
            "Lable: 2\n"
          ]
        },
        {
          "output_type": "display_data",
          "data": {
            "text/plain": [
              "<Figure size 640x480 with 1 Axes>"
            ],
            "image/png": "[encoded data removed]"
          },
          "metadata": {}
        },
        {
          "output_type": "stream",
          "name": "stdout",
          "text": [
            "index: 16312\n",
            "Lable: 4\n"
          ]
        },
        {
          "output_type": "display_data",
          "data": {
            "text/plain": [
              "<Figure size 640x480 with 1 Axes>"
            ],
            "image/png": "[encoded data removed]"
          },
          "metadata": {}
        },
        {
          "output_type": "stream",
          "name": "stdout",
          "text": [
            "index: 24196\n",
            "Lable: 3\n"
          ]
        },
        {
          "output_type": "display_data",
          "data": {
            "text/plain": [
              "<Figure size 640x480 with 1 Axes>"
            ],
            "image/png": "[encoded data removed]"
          },
          "metadata": {}
        },
        {
          "output_type": "stream",
          "name": "stdout",
          "text": [
            "index: 18758\n",
            "Lable: 1\n"
          ]
        },
        {
          "output_type": "display_data",
          "data": {
            "text/plain": [
              "<Figure size 640x480 with 1 Axes>"
            ],
            "image/png": "[encoded data removed]"
          },
          "metadata": {}
        },
        {
          "output_type": "stream",
          "name": "stdout",
          "text": [
            "index: 55283\n",
            "Lable: 3\n"
          ]
        },
        {
          "output_type": "display_data",
          "data": {
            "text/plain": [
              "<Figure size 640x480 with 1 Axes>"
            ],
            "image/png": "[encoded data removed]"
          },
          "metadata": {}
        },
        {
          "output_type": "stream",
          "name": "stdout",
          "text": [
            "index: 25163\n",
            "Lable: 1\n"
          ]
        },
        {
          "output_type": "display_data",
          "data": {
            "text/plain": [
              "<Figure size 640x480 with 1 Axes>"
            ],
            "image/png": "[encoded data removed]"
          },
          "metadata": {}
        },
        {
          "output_type": "stream",
          "name": "stdout",
          "text": [
            "index: 11265\n",
            "Lable: 5\n"
          ]
        },
        {
          "output_type": "display_data",
          "data": {
            "text/plain": [
              "<Figure size 640x480 with 1 Axes>"
            ],
            "image/png": "[encoded data removed]"
          },
          "metadata": {}
        },
        {
          "output_type": "stream",
          "name": "stdout",
          "text": [
            "___________________\n"
          ]
        }
      ]
    },
    {
      "cell_type": "code",
      "source": [
        "print(\"There are\", len(set(dataset[0][1])),\"unique classes in training dataset\")\n",
        "\n",
        "print(\"Breakdown of each labels is below (format: dict key is label, dict value is occurrence of that label/ number of images for that label)\")\n",
        "display(collections.Counter(dataset[0][1]))\n",
        "\n",
        "print(\"There are\", len(set(dataset[1][1])),\"unique classes in validation dataset\")\n",
        "print(\"Breakdown of each labels is below (format: dict key is label, dict value is occurrence of that label/ number of images for that label)\")\n",
        "display(collections.Counter(dataset[1][1]))"
      ],
      "metadata": {
        "colab": {
          "base_uri": "https://localhost:8080/",
          "height": 434
        },
        "id": "E0wK_QxrhMNR",
        "outputId": "f7a930a6-dfff-4c66-b883-4d7049b0cb7c"
      },
      "execution_count": null,
      "outputs": [
        {
          "output_type": "stream",
          "name": "stdout",
          "text": [
            "There are 10 unique classes in training dataset\n",
            "Breakdown of each labels is below (format: dict key is label, dict value is occurrence of that label/ number of images for that label)\n"
          ]
        },
        {
          "output_type": "display_data",
          "data": {
            "text/plain": [
              "Counter({5: 5421,\n",
              "         0: 5923,\n",
              "         4: 5842,\n",
              "         1: 6742,\n",
              "         9: 5949,\n",
              "         2: 5958,\n",
              "         3: 6131,\n",
              "         6: 5918,\n",
              "         7: 6265,\n",
              "         8: 5851})"
            ]
          },
          "metadata": {}
        },
        {
          "output_type": "stream",
          "name": "stdout",
          "text": [
            "There are 10 unique classes in validation dataset\n",
            "Breakdown of each labels is below (format: dict key is label, dict value is occurrence of that label/ number of images for that label)\n"
          ]
        },
        {
          "output_type": "display_data",
          "data": {
            "text/plain": [
              "Counter({7: 1028,\n",
              "         2: 1032,\n",
              "         1: 1135,\n",
              "         0: 980,\n",
              "         4: 982,\n",
              "         9: 1009,\n",
              "         5: 892,\n",
              "         6: 958,\n",
              "         3: 1010,\n",
              "         8: 974})"
            ]
          },
          "metadata": {}
        }
      ]
    },
    {
      "cell_type": "code",
      "source": [
        "def reduce_dataset(images, labels, num_per_label):\n",
        "    reduced_images = []\n",
        "    reduced_labels = []\n",
        "    unique_labels = np.unique(labels)\n",
        "\n",
        "    for label in unique_labels:\n",
        "        indices = np.where(labels == label)[0]\n",
        "        random_indices = np.random.choice(indices, num_per_label, replace=False)\n",
        "        reduced_images.extend(images[random_indices])\n",
        "        reduced_labels.extend(labels[random_indices])\n",
        "\n",
        "    return np.array(reduced_images), np.array(reduced_labels)\n",
        "    # Load the MNIST dataset from Keras\n",
        "(train_images, train_labels), (test_images, test_labels) = mnist.load_data()\n",
        "\n",
        "# Reduce the size of the training and testing datasets\n",
        "num_per_label_train = 600\n",
        "num_per_label_test = 100\n",
        "reduced_train_images, reduced_train_labels = reduce_dataset(train_images, train_labels, num_per_label_train)\n",
        "reduced_test_images, reduced_test_labels = reduce_dataset(test_images, test_labels, num_per_label_test)\n",
        "\n",
        "# Create a new dataset in the same format as the original dataset\n",
        "new_dataset = ((reduced_train_images, reduced_train_labels), (reduced_test_images, reduced_test_labels))\n",
        "\n",
        "# Print the size of the new reduced dataset\n",
        "print(f\"New training dataset size: {len(reduced_train_images)} images\")\n",
        "print(f\"New testing dataset size: {len(reduced_test_images)} images\")\n",
        "def count_images_per_class(labels):\n",
        "    class_counts = np.zeros(10, dtype=int)\n",
        "    for label in labels:\n",
        "        class_counts[label] += 1\n",
        "    return class_counts\n",
        "\n",
        "# Count the number of images for each class in the reduced training dataset\n",
        "reduced_train_class_counts = count_images_per_class(reduced_train_labels)\n",
        "print(\"Reduced Training Dataset - Number of images per class:\")\n",
        "for class_label, count in enumerate(reduced_train_class_counts):\n",
        "    print(\"Class\", class_label, \":\", count, \"images\")\n",
        "\n",
        "# Count the number of images for each class in the reduced testing dataset\n",
        "reduced_test_class_counts = count_images_per_class(reduced_test_labels)\n",
        "print(\"Reduced Testing Dataset - Number of images per class:\")\n",
        "for class_label, count in enumerate(reduced_test_class_counts):\n",
        "    print(\"Class\", class_label, \":\", count, \"images\")"
      ],
      "metadata": {
        "colab": {
          "base_uri": "https://localhost:8080/"
        },
        "id": "qC-EJwivhe_w",
        "outputId": "b80d42ac-5fff-4173-e7f7-37656c8d092c"
      },
      "execution_count": null,
      "outputs": [
        {
          "output_type": "stream",
          "name": "stdout",
          "text": [
            "New training dataset size: 6000 images\n",
            "New testing dataset size: 1000 images\n",
            "Reduced Training Dataset - Number of images per class:\n",
            "Class 0 : 600 images\n",
            "Class 1 : 600 images\n",
            "Class 2 : 600 images\n",
            "Class 3 : 600 images\n",
            "Class 4 : 600 images\n",
            "Class 5 : 600 images\n",
            "Class 6 : 600 images\n",
            "Class 7 : 600 images\n",
            "Class 8 : 600 images\n",
            "Class 9 : 600 images\n",
            "Reduced Testing Dataset - Number of images per class:\n",
            "Class 0 : 100 images\n",
            "Class 1 : 100 images\n",
            "Class 2 : 100 images\n",
            "Class 3 : 100 images\n",
            "Class 4 : 100 images\n",
            "Class 5 : 100 images\n",
            "Class 6 : 100 images\n",
            "Class 7 : 100 images\n",
            "Class 8 : 100 images\n",
            "Class 9 : 100 images\n"
          ]
        }
      ]
    },
    {
      "cell_type": "code",
      "source": [
        "\n",
        "\n",
        "\n",
        "\n",
        "\n",
        "\n",
        "# Print the number of images in the training and testing datasets\n",
        "print(f\"There are {len(dataset[0][0])} images in the training dataset.\")\n",
        "print(f\"There are {len(dataset[1][0])} images in the testing dataset.\")\n",
        "print(\"___________________\")\n",
        "\n",
        "\n",
        "# Print the number of labels in the training and testing datasets\n",
        "print(f\"There are {len(dataset[0][1])} labels in the training dataset for {len(dataset[0][0])} images in the training dataset.\")\n",
        "print(f\"There are {len(dataset[1][1])} labels in the testing dataset for {len(dataset[1][0])} images in the testing dataset.\")\n",
        "print(\"___________________\")\n",
        "\n",
        "\n"
      ],
      "metadata": {
        "colab": {
          "base_uri": "https://localhost:8080/"
        },
        "id": "Rgi2GhhVhyIt",
        "outputId": "5b0128f2-5054-4412-b679-4fafc795a1c2"
      },
      "execution_count": null,
      "outputs": [
        {
          "output_type": "stream",
          "name": "stdout",
          "text": [
            "There are 60000 images in the training dataset.\n",
            "There are 10000 images in the testing dataset.\n",
            "___________________\n",
            "There are 60000 labels in the training dataset for 60000 images in the training dataset.\n",
            "There are 10000 labels in the testing dataset for 10000 images in the testing dataset.\n",
            "___________________\n"
          ]
        }
      ]
    }
  ]
}